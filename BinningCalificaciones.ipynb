{
 "cells": [
  {
   "cell_type": "markdown",
   "metadata": {},
   "source": [
    "# BINNING DATA"
   ]
  },
  {
   "cell_type": "markdown",
   "metadata": {},
   "source": [
    "### Algoritmo del método de transformación de variables numericas a categoricas Equal Width"
   ]
  },
  {
   "cell_type": "markdown",
   "metadata": {},
   "source": [
    "#### La transformación de variables es una forma de hacer que los datos funcionen mejor en un modelo"
   ]
  },
  {
   "cell_type": "markdown",
   "metadata": {},
   "source": [
    "###### Elaboró Thelma Rangel y Hugo Godínez"
   ]
  },
  {
   "cell_type": "markdown",
   "metadata": {},
   "source": [
    "###### En el presente ejemplo tenemos datos numericos de las calificaciones del primer y segundo parcial de un alumno de 8vo semestre de Matemáticas Aplicadas y Computación de la FES Acatlán  y queremos categorizar estos datos para darle un mensaje final dependiendo de sus calificaciones."
   ]
  },
  {
   "cell_type": "code",
   "execution_count": 1,
   "metadata": {},
   "outputs": [],
   "source": [
    "import pandas as pd"
   ]
  },
  {
   "cell_type": "markdown",
   "metadata": {},
   "source": [
    "###### Cargamos los datos"
   ]
  },
  {
   "cell_type": "code",
   "execution_count": 2,
   "metadata": {},
   "outputs": [],
   "source": [
    "misDatos = {\n",
    "    \"materias\" : [\"mineria de datos\", \"seguridad computacional\", \"robotica\",\"paralela\"],\n",
    "    \"parcial_1\": [3.1, 6.6, 8.9 ,8.0],\n",
    "    \"parcial_2\": [9.4, 10.0 , 2.2 , 5.4]\n",
    "}\n",
    "\n",
    "df = pd.DataFrame(misDatos,\n",
    "                  index = pd.Index(['A','B','C','D'], name= 'letra'),\n",
    "                  columns = pd.Index(['materias', 'parcial_1','parcial_2'], name = 'atributos')\n",
    "                 )"
   ]
  },
  {
   "cell_type": "code",
   "execution_count": 3,
   "metadata": {},
   "outputs": [
    {
     "data": {
      "text/html": [
       "<div>\n",
       "<style scoped>\n",
       "    .dataframe tbody tr th:only-of-type {\n",
       "        vertical-align: middle;\n",
       "    }\n",
       "\n",
       "    .dataframe tbody tr th {\n",
       "        vertical-align: top;\n",
       "    }\n",
       "\n",
       "    .dataframe thead th {\n",
       "        text-align: right;\n",
       "    }\n",
       "</style>\n",
       "<table border=\"1\" class=\"dataframe\">\n",
       "  <thead>\n",
       "    <tr style=\"text-align: right;\">\n",
       "      <th>atributos</th>\n",
       "      <th>materias</th>\n",
       "      <th>parcial_1</th>\n",
       "      <th>parcial_2</th>\n",
       "    </tr>\n",
       "    <tr>\n",
       "      <th>letra</th>\n",
       "      <th></th>\n",
       "      <th></th>\n",
       "      <th></th>\n",
       "    </tr>\n",
       "  </thead>\n",
       "  <tbody>\n",
       "    <tr>\n",
       "      <td>A</td>\n",
       "      <td>mineria de datos</td>\n",
       "      <td>3.1</td>\n",
       "      <td>9.4</td>\n",
       "    </tr>\n",
       "    <tr>\n",
       "      <td>B</td>\n",
       "      <td>seguridad computacional</td>\n",
       "      <td>6.6</td>\n",
       "      <td>10.0</td>\n",
       "    </tr>\n",
       "    <tr>\n",
       "      <td>C</td>\n",
       "      <td>robotica</td>\n",
       "      <td>8.9</td>\n",
       "      <td>2.2</td>\n",
       "    </tr>\n",
       "    <tr>\n",
       "      <td>D</td>\n",
       "      <td>paralela</td>\n",
       "      <td>8.0</td>\n",
       "      <td>5.4</td>\n",
       "    </tr>\n",
       "  </tbody>\n",
       "</table>\n",
       "</div>"
      ],
      "text/plain": [
       "atributos                 materias  parcial_1  parcial_2\n",
       "letra                                                   \n",
       "A                 mineria de datos        3.1        9.4\n",
       "B          seguridad computacional        6.6       10.0\n",
       "C                         robotica        8.9        2.2\n",
       "D                         paralela        8.0        5.4"
      ]
     },
     "execution_count": 3,
     "metadata": {},
     "output_type": "execute_result"
    }
   ],
   "source": [
    "df"
   ]
  },
  {
   "cell_type": "markdown",
   "metadata": {},
   "source": [
    "###### Definimos las particiones(BINS) "
   ]
  },
  {
   "cell_type": "markdown",
   "metadata": {},
   "source": [
    "###### (2 - 4), (4 - 6), (6- 8), (8 - 10)"
   ]
  },
  {
   "cell_type": "code",
   "execution_count": 4,
   "metadata": {},
   "outputs": [],
   "source": [
    "bins = [2, 4, 6, 8, 10]"
   ]
  },
  {
   "cell_type": "code",
   "execution_count": 5,
   "metadata": {},
   "outputs": [
    {
     "data": {
      "text/plain": [
       "[2, 4, 6, 8, 10]"
      ]
     },
     "execution_count": 5,
     "metadata": {},
     "output_type": "execute_result"
    }
   ],
   "source": [
    "bins"
   ]
  },
  {
   "cell_type": "markdown",
   "metadata": {},
   "source": [
    "###### Mostramos el mensaje dependiendo de en cual bin se encuentra"
   ]
  },
  {
   "cell_type": "code",
   "execution_count": 6,
   "metadata": {},
   "outputs": [],
   "source": [
    "resultado_calificacion = ['ni en sueños pasas', 'solo que sepas rezar','maso menos', 'OK crack']"
   ]
  },
  {
   "cell_type": "markdown",
   "metadata": {},
   "source": [
    "##### Resultado de las calificaciones del parcial 1 "
   ]
  },
  {
   "cell_type": "code",
   "execution_count": 7,
   "metadata": {},
   "outputs": [],
   "source": [
    "df['Resultado'] = pd.cut(df['parcial_1'], bins, labels = resultado_calificacion )"
   ]
  },
  {
   "cell_type": "code",
   "execution_count": 8,
   "metadata": {},
   "outputs": [
    {
     "data": {
      "text/html": [
       "<div>\n",
       "<style scoped>\n",
       "    .dataframe tbody tr th:only-of-type {\n",
       "        vertical-align: middle;\n",
       "    }\n",
       "\n",
       "    .dataframe tbody tr th {\n",
       "        vertical-align: top;\n",
       "    }\n",
       "\n",
       "    .dataframe thead th {\n",
       "        text-align: right;\n",
       "    }\n",
       "</style>\n",
       "<table border=\"1\" class=\"dataframe\">\n",
       "  <thead>\n",
       "    <tr style=\"text-align: right;\">\n",
       "      <th>atributos</th>\n",
       "      <th>materias</th>\n",
       "      <th>parcial_1</th>\n",
       "      <th>parcial_2</th>\n",
       "      <th>Resultado</th>\n",
       "    </tr>\n",
       "    <tr>\n",
       "      <th>letra</th>\n",
       "      <th></th>\n",
       "      <th></th>\n",
       "      <th></th>\n",
       "      <th></th>\n",
       "    </tr>\n",
       "  </thead>\n",
       "  <tbody>\n",
       "    <tr>\n",
       "      <td>A</td>\n",
       "      <td>mineria de datos</td>\n",
       "      <td>3.1</td>\n",
       "      <td>9.4</td>\n",
       "      <td>ni en sueños pasas</td>\n",
       "    </tr>\n",
       "    <tr>\n",
       "      <td>B</td>\n",
       "      <td>seguridad computacional</td>\n",
       "      <td>6.6</td>\n",
       "      <td>10.0</td>\n",
       "      <td>maso menos</td>\n",
       "    </tr>\n",
       "    <tr>\n",
       "      <td>C</td>\n",
       "      <td>robotica</td>\n",
       "      <td>8.9</td>\n",
       "      <td>2.2</td>\n",
       "      <td>OK crack</td>\n",
       "    </tr>\n",
       "    <tr>\n",
       "      <td>D</td>\n",
       "      <td>paralela</td>\n",
       "      <td>8.0</td>\n",
       "      <td>5.4</td>\n",
       "      <td>maso menos</td>\n",
       "    </tr>\n",
       "  </tbody>\n",
       "</table>\n",
       "</div>"
      ],
      "text/plain": [
       "atributos                 materias  parcial_1  parcial_2           Resultado\n",
       "letra                                                                       \n",
       "A                 mineria de datos        3.1        9.4  ni en sueños pasas\n",
       "B          seguridad computacional        6.6       10.0          maso menos\n",
       "C                         robotica        8.9        2.2            OK crack\n",
       "D                         paralela        8.0        5.4          maso menos"
      ]
     },
     "execution_count": 8,
     "metadata": {},
     "output_type": "execute_result"
    }
   ],
   "source": [
    "df"
   ]
  },
  {
   "cell_type": "markdown",
   "metadata": {},
   "source": [
    "##### Resultados de las calificaciones del parcial 2 "
   ]
  },
  {
   "cell_type": "code",
   "execution_count": 9,
   "metadata": {},
   "outputs": [],
   "source": [
    "df['Resultado'] = pd.cut(df['parcial_2'], bins, labels = resultado_calificacion )"
   ]
  },
  {
   "cell_type": "code",
   "execution_count": 10,
   "metadata": {},
   "outputs": [
    {
     "data": {
      "text/html": [
       "<div>\n",
       "<style scoped>\n",
       "    .dataframe tbody tr th:only-of-type {\n",
       "        vertical-align: middle;\n",
       "    }\n",
       "\n",
       "    .dataframe tbody tr th {\n",
       "        vertical-align: top;\n",
       "    }\n",
       "\n",
       "    .dataframe thead th {\n",
       "        text-align: right;\n",
       "    }\n",
       "</style>\n",
       "<table border=\"1\" class=\"dataframe\">\n",
       "  <thead>\n",
       "    <tr style=\"text-align: right;\">\n",
       "      <th>atributos</th>\n",
       "      <th>materias</th>\n",
       "      <th>parcial_1</th>\n",
       "      <th>parcial_2</th>\n",
       "      <th>Resultado</th>\n",
       "    </tr>\n",
       "    <tr>\n",
       "      <th>letra</th>\n",
       "      <th></th>\n",
       "      <th></th>\n",
       "      <th></th>\n",
       "      <th></th>\n",
       "    </tr>\n",
       "  </thead>\n",
       "  <tbody>\n",
       "    <tr>\n",
       "      <td>A</td>\n",
       "      <td>mineria de datos</td>\n",
       "      <td>3.1</td>\n",
       "      <td>9.4</td>\n",
       "      <td>OK crack</td>\n",
       "    </tr>\n",
       "    <tr>\n",
       "      <td>B</td>\n",
       "      <td>seguridad computacional</td>\n",
       "      <td>6.6</td>\n",
       "      <td>10.0</td>\n",
       "      <td>OK crack</td>\n",
       "    </tr>\n",
       "    <tr>\n",
       "      <td>C</td>\n",
       "      <td>robotica</td>\n",
       "      <td>8.9</td>\n",
       "      <td>2.2</td>\n",
       "      <td>ni en sueños pasas</td>\n",
       "    </tr>\n",
       "    <tr>\n",
       "      <td>D</td>\n",
       "      <td>paralela</td>\n",
       "      <td>8.0</td>\n",
       "      <td>5.4</td>\n",
       "      <td>solo que sepas rezar</td>\n",
       "    </tr>\n",
       "  </tbody>\n",
       "</table>\n",
       "</div>"
      ],
      "text/plain": [
       "atributos                 materias  parcial_1  parcial_2             Resultado\n",
       "letra                                                                         \n",
       "A                 mineria de datos        3.1        9.4              OK crack\n",
       "B          seguridad computacional        6.6       10.0              OK crack\n",
       "C                         robotica        8.9        2.2    ni en sueños pasas\n",
       "D                         paralela        8.0        5.4  solo que sepas rezar"
      ]
     },
     "execution_count": 10,
     "metadata": {},
     "output_type": "execute_result"
    }
   ],
   "source": [
    "df"
   ]
  },
  {
   "cell_type": "markdown",
   "metadata": {},
   "source": [
    "###### Mineria de Datos"
   ]
  },
  {
   "cell_type": "markdown",
   "metadata": {},
   "source": [
    "###### Profesor: Jacobo Gerardo González León"
   ]
  },
  {
   "cell_type": "markdown",
   "metadata": {},
   "source": [
    "###### UNAM"
   ]
  },
  {
   "cell_type": "code",
   "execution_count": null,
   "metadata": {},
   "outputs": [],
   "source": []
  }
 ],
 "metadata": {
  "kernelspec": {
   "display_name": "Python 3",
   "language": "python",
   "name": "python3"
  },
  "language_info": {
   "codemirror_mode": {
    "name": "ipython",
    "version": 3
   },
   "file_extension": ".py",
   "mimetype": "text/x-python",
   "name": "python",
   "nbconvert_exporter": "python",
   "pygments_lexer": "ipython3",
   "version": "3.7.4"
  }
 },
 "nbformat": 4,
 "nbformat_minor": 2
}
